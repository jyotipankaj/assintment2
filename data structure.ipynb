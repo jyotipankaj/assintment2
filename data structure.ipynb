{
 "cells": [
  {
   "cell_type": "markdown",
   "id": "5a3d3238-32af-498c-87ee-68d8df995c66",
   "metadata": {},
   "source": [
    "##data types and structures questions"
   ]
  },
  {
   "cell_type": "code",
   "execution_count": null,
   "id": "1e6eb445-6f5d-4d64-a22d-4df9b87c2ed7",
   "metadata": {},
   "outputs": [],
   "source": [
    "Q1. what are data structures, and why are they important?"
   ]
  },
  {
   "cell_type": "code",
   "execution_count": null,
   "id": "c545cf71-f795-4e0d-8409-ee6659b8d7d5",
   "metadata": {},
   "outputs": [],
   "source": [
    "ans. data structures are a way to organize and store data in a computer so that it can be efficiently accessed and manipulated."
   ]
  },
  {
   "cell_type": "code",
   "execution_count": null,
   "id": "39e3944c-c39e-4d58-b220-6b0e1d33f4af",
   "metadata": {},
   "outputs": [],
   "source": [
    "Q2. explain the difference between mutable and immutable data types with example?"
   ]
  },
  {
   "cell_type": "code",
   "execution_count": null,
   "id": "f531c219-b2b4-4a12-9c6d-a2086d7c45d7",
   "metadata": {},
   "outputs": [],
   "source": [
    "ans. mutable data types - mutable data types are those that can be changed. \n",
    "ex. lists, dictionaries, sets\n",
    "    immutable data types- immutable data types are those that cannot be changed. \n",
    "ex. integers, floats, strings, tuples"
   ]
  },
  {
   "cell_type": "code",
   "execution_count": null,
   "id": "31c4b030-f21b-46ca-ac43-7fed9b94d06b",
   "metadata": {},
   "outputs": [],
   "source": [
    "Q3. what are the main difference between lists and tuples in python?"
   ]
  },
  {
   "cell_type": "code",
   "execution_count": null,
   "id": "b53302a8-15a9-4f28-8f25-14444464d4e2",
   "metadata": {},
   "outputs": [],
   "source": [
    "ans. lists are mutable , meaning they can be changed after they are created. tuples are immutable, meaning they immutable,\n",
    "meaning they cannot be changed after they are created."
   ]
  },
  {
   "cell_type": "code",
   "execution_count": null,
   "id": "fd21f21f-e3ce-4d80-bb0f-20cbedf6a2cf",
   "metadata": {},
   "outputs": [],
   "source": [
    "Q4. describe how dictionaries store data?"
   ]
  },
  {
   "cell_type": "code",
   "execution_count": null,
   "id": "ffd6599c-12fe-47e0-b575-3e7677fa3b0f",
   "metadata": {},
   "outputs": [],
   "source": [
    "ans. dictionaries in python are a type of data structure that stores key-value pairs.\n",
    "ex- \n",
    "    my_dict = {\"name\" : \"john\",\n",
    "               \"age\" : 30,\n",
    "               \"city\" : \"new york\"}"
   ]
  },
  {
   "cell_type": "code",
   "execution_count": null,
   "id": "92a5e7b7-472e-4dc2-9b81-7e720a0410f5",
   "metadata": {},
   "outputs": [],
   "source": [
    "Q5. why might you use a set instead of a list in python?"
   ]
  },
  {
   "cell_type": "code",
   "execution_count": null,
   "id": "7526b78c-5c59-4c23-b067-8e36f3aebe6f",
   "metadata": {},
   "outputs": [],
   "source": [
    "ans. here are some reasons why you might use a set instead of a list in python:\n",
    "1- uniqueness\n",
    "2- faster lookups\n",
    "3- faster intersection\n",
    "4- less memory usage\n",
    "ex. \n",
    "my_list = [1,2,2,3,4,4,5]\n",
    "my_set = {1,2,3,4,5}"
   ]
  },
  {
   "cell_type": "code",
   "execution_count": null,
   "id": "ed8dc54e-9eaa-44ec-89ac-4baf63e8c8c9",
   "metadata": {},
   "outputs": [],
   "source": [
    "Q6. what is a string in python and how is it different from a list?"
   ]
  },
  {
   "cell_type": "code",
   "execution_count": null,
   "id": "10e9d3b8-db75-45ae-b682-2040ebd18b25",
   "metadata": {},
   "outputs": [],
   "source": [
    "ans. in python, a sting is a sequence of characters, such as letters, numbers, and symbols.\n",
    "strings are denoted by enclosing the characters in quotes,\n",
    "either single quotes(') or double quotes(\")."
   ]
  },
  {
   "cell_type": "code",
   "execution_count": null,
   "id": "4e8c4ec4-96a1-4e40-be95-a150a6f89599",
   "metadata": {},
   "outputs": [],
   "source": [
    "Q7. how do tuples ensure data integrity in python?"
   ]
  },
  {
   "cell_type": "code",
   "execution_count": null,
   "id": "73bd6011-735b-46bc-a85c-7e0ca3e673b9",
   "metadata": {},
   "outputs": [],
   "source": [
    "ans. tuples in python are an immutable data structure, which means that once you create a tuple,you cannot change it.\n",
    "this immutability helps tuples wnsure data integrity.\n",
    "since tuples are immutable, we get an error message indicating that tuples cannot be changed.\n",
    "this error message helps ensure data integrity by preventing unauthorized changes to the data."
   ]
  },
  {
   "cell_type": "code",
   "execution_count": null,
   "id": "34bad122-8509-42df-8208-1afc7bb67b33",
   "metadata": {},
   "outputs": [],
   "source": [
    "Q8. what is a hash table and how does it relate to dictionaries in python?"
   ]
  },
  {
   "cell_type": "code",
   "execution_count": null,
   "id": "3aef74c6-67ab-410f-b0ff-7972e42075ea",
   "metadata": {},
   "outputs": [],
   "source": [
    "ans. a hash table is a data structure that stores key-value pairs,\n",
    "where keys are unique and values can be of any type.\n",
    "\n",
    "in python, dictionaries(dict) are a type of hash table.\n",
    "dictionaries store key-value pairs, where keys are unique and values can be of any type."
   ]
  },
  {
   "cell_type": "code",
   "execution_count": null,
   "id": "122dcff6-2491-45d9-9d1e-3bb21bbb211a",
   "metadata": {},
   "outputs": [],
   "source": [
    "Q9. can lists contain different data types in python?"
   ]
  },
  {
   "cell_type": "code",
   "execution_count": null,
   "id": "79924bc6-08d2-4154-b3ed-344deeab61b0",
   "metadata": {},
   "outputs": [],
   "source": [
    "ans. yes, in python , lists can contain different data types.\n",
    "lists are a type of data structure that allows you to store different types of data in a single list.\n",
    "ex-\n",
    "    my_list = [1, \"hello\",3.14,true,[1,2,3]]\n",
    "print(my_list[0]) \n",
    "#1\n",
    "print(my_list[1])\n",
    "#\"hello\"\n",
    "print(my_list[2])\n",
    "#3.14"
   ]
  },
  {
   "cell_type": "code",
   "execution_count": null,
   "id": "4da7646e-5475-4138-a7b9-17b98727bee1",
   "metadata": {},
   "outputs": [],
   "source": [
    "Q10.explain why strings are immutable in python?"
   ]
  },
  {
   "cell_type": "code",
   "execution_count": null,
   "id": "d948ce46-c0d5-4006-a5c2-6898fb671597",
   "metadata": {},
   "outputs": [],
   "source": [
    "ans. in python strings are immutable meaning they cannot be changed after they are created.\n",
    "this is a deliberate design decision, and here are some reasons why strings are immutable:\n",
    "1- security\n",
    "2- functionality\n",
    "3- memory management\n",
    "4- hashing"
   ]
  },
  {
   "cell_type": "code",
   "execution_count": null,
   "id": "5ec3dd37-677d-46a3-8c6f-fa6321f32d8a",
   "metadata": {},
   "outputs": [],
   "source": [
    "Q11. what advantages do dictionaries offer over lists for certain tasks."
   ]
  },
  {
   "cell_type": "code",
   "execution_count": null,
   "id": "9eed6ee7-6ed7-41e3-9c44-0f7e8a9db713",
   "metadata": {},
   "outputs": [],
   "source": [
    "ans. in python , dictionaries and lists are both usefel for data storage.\n",
    "                                                       however, dictionaries offer several advantages over lists for certain tasks.\n",
    "we were used a loop to look up data in the list, while in dictionary,\n",
    "we've used the key to look up the value."
   ]
  },
  {
   "cell_type": "code",
   "execution_count": null,
   "id": "be69ca5a-8d96-4116-8d10-ede780b50b56",
   "metadata": {},
   "outputs": [],
   "source": [
    "Q12. describe a scenario where using a tuple would be preferable over a list?"
   ]
  },
  {
   "cell_type": "code",
   "execution_count": null,
   "id": "591ffb9f-7c1c-4f00-ab31-a328d66ef4ed",
   "metadata": {},
   "outputs": [],
   "source": [
    "ans. a scenario where using a tuple would be preferable over a list is when you need a collection of data \n",
    "that is stable and immutable.\n",
    "ex.- \n",
    "days_of_the_week = (\"monday\", \"tuesday\", \"wednesday\", \"thurusday\",\"friday\", \"saturay\", \"sunday\")\n",
    "in this scenario , using a tuple is more suitable bcz.\n",
    "the names of the days of the week are immutable."
   ]
  },
  {
   "cell_type": "code",
   "execution_count": null,
   "id": "bcd32d60-dd34-4d73-bcf1-19821c1fe52f",
   "metadata": {},
   "outputs": [],
   "source": [
    "Q13. how do sets handle duplicate values in python?"
   ]
  },
  {
   "cell_type": "code",
   "execution_count": null,
   "id": "8e8fee35-4e4e-4996-9d33-f5393fa58a40",
   "metadata": {},
   "outputs": [],
   "source": [
    "ans. in python, sets automatically remove duplicate values.\n",
    "when you add a value to a set that already exists in the set, the set does not add the value again.\n",
    "ex- \n",
    "my_set = { 1,2,2,3,4,4,5}\n",
    "print(my_set) \n",
    "#{1,2,3,4,5}"
   ]
  },
  {
   "cell_type": "code",
   "execution_count": null,
   "id": "3f63818b-0d60-4305-9007-3d3b5a13f652",
   "metadata": {},
   "outputs": [],
   "source": [
    "Q14.  how does the \"in\" keyword work differently for lists and dictionaries?"
   ]
  },
  {
   "cell_type": "code",
   "execution_count": null,
   "id": "24b8b0ba-e64f-4b34-9347-6e0776e8879b",
   "metadata": {},
   "outputs": [],
   "source": [
    "ans. using \"in\" with lists:\n",
    "    in lists, the \"in\" keyword is used to cheak if a value is present in the list.\n",
    "    it checks all the values in the list and returns true if the value is found, and false otherwise.\n",
    "    using \"in\" with dictionaries:\n",
    "        in dictionaries , the \"in\" keyword is used to check if a key is present in the dictionary.\n",
    "        it checks all the keys in the dictioary and returns true if the key is found,\n",
    "        and false otherwise."
   ]
  },
  {
   "cell_type": "code",
   "execution_count": null,
   "id": "c88d63e7-db0e-4137-98ac-506142a88942",
   "metadata": {},
   "outputs": [],
   "source": [
    "Q15. can you modify the elements of a tuple?explain why or why not?"
   ]
  },
  {
   "cell_type": "code",
   "execution_count": null,
   "id": "535ab53f-80ae-4963-b28f-25e8241f1687",
   "metadata": {},
   "outputs": [],
   "source": [
    "ans. no, you cannot modify the elements of a tuple.\n",
    "tuples are an immutable data type, which means that once you create a tuple,\n",
    "you cannot change its elements.\n",
    "ex-\n",
    "my_tuple = (1,2,3)\n",
    "my_tuple[0] = 10 \n",
    "error"
   ]
  },
  {
   "cell_type": "code",
   "execution_count": null,
   "id": "8778431e-37f6-4535-87dc-e179a1d4bba1",
   "metadata": {},
   "outputs": [],
   "source": [
    "Q16. what is a nested dictionary and give an example of its use case?"
   ]
  },
  {
   "cell_type": "code",
   "execution_count": null,
   "id": "dbe2712a-ffaa-4276-9000-9a8213e2fc13",
   "metadata": {},
   "outputs": [],
   "source": [
    "ans. a nested dictionary is a dictionary that contains one or more keys whose values are alos dictionaries.\n",
    "this is a way to define a dictionary within another dictionary.\n",
    "\n",
    "    nested dictionaries are used when you to represent a complex data structure, such as a person's\n",
    "information that includes name, address, phone number, and other details."
   ]
  },
  {
   "cell_type": "code",
   "execution_count": null,
   "id": "206284df-d69e-4aa9-85f9-fe980547cad6",
   "metadata": {},
   "outputs": [],
   "source": [
    "Q17. describethe time complexity of accessing elements in a dictionary?"
   ]
  },
  {
   "cell_type": "code",
   "execution_count": null,
   "id": "ee9f37db-d2d9-4d4b-9c2b-0175b8855d7c",
   "metadata": {},
   "outputs": [],
   "source": [
    "ans. the time complexity of accessing elements in a dictionary is typically o(1), also known as\n",
    "\"amortized time complexity\". this means that the time it takes to access an elements in a sictionary is usually constant,\n",
    "regardless of the number of elements in the dictionary.\n",
    "this time complexity is due to the dictionary's hashing technique, which maps a key to a unique location.\n",
    "when you try to access an element using a key, the dictionary's hash function maps the key to a location where the element is stored."
   ]
  },
  {
   "cell_type": "code",
   "execution_count": null,
   "id": "e854d9fb-9153-4818-b6d5-f47b3aeaad9d",
   "metadata": {},
   "outputs": [],
   "source": [
    "Q18. in what situations are lists preferred over dictionaries."
   ]
  },
  {
   "cell_type": "code",
   "execution_count": null,
   "id": "ca0e2e3b-c668-4ac7-9c5b-1b64b0d475ee",
   "metadata": {},
   "outputs": [],
   "source": [
    "ans. lists and dictionaries are both useful data structures in python.\n",
    "however , there are some situations where lists are preferred over dictionaries.\n",
    "lists are a good choice when you need to store data in a specific order, store duplicate values, or \n",
    "modify data dynamically.\n"
   ]
  },
  {
   "cell_type": "code",
   "execution_count": null,
   "id": "625d649b-b0b4-447d-9eb9-12ecabf0c583",
   "metadata": {},
   "outputs": [],
   "source": [
    "Q19. why are dictionaries considered unordered and how does that affect data retrieval?"
   ]
  },
  {
   "cell_type": "code",
   "execution_count": null,
   "id": "272f6233-22a9-4641-95bb-4f76fc447cef",
   "metadata": {},
   "outputs": [],
   "source": [
    "ans.  in python , dictionaries are considered unordred bcz they do not store elements in a specific order.\n",
    "this means that when you add elements to a dictionary, they are not stored in a particular order.\n",
    "ex- \n",
    "    my_dict = {\"name\": 'john\", \"age\"; 30, \"address\": \"new york\"}\n",
    "               print(my_dict[\"name\"])\n",
    "               #jphn\n",
    "               print(my-dict[\"age\"]) \n",
    "               #30"
   ]
  },
  {
   "cell_type": "code",
   "execution_count": null,
   "id": "28e25ee0-05d8-4242-8a74-eeda8fe69bff",
   "metadata": {},
   "outputs": [],
   "source": [
    "Q20 explain the difference between a list and a dictionary in terms of data retrival?"
   ]
  },
  {
   "cell_type": "code",
   "execution_count": null,
   "id": "f1742cce-02d1-41ca-bf5c-21b58fd30e0d",
   "metadata": {},
   "outputs": [],
   "source": [
    "ans.  in python , dictionaries are considered unordered bcz they do not store elements in a specific order.\n",
    "this means that when you add elemrnts to a dictionary , they are not stored in a paeticular order.\n",
    "ex - \n",
    "    my_list = [1,2,3,4,5]\n",
    "print(my_list[0])\n",
    "# 1\n",
    "my_dict = {\"name\": \"john\", \"age\" : 30 , \"address\": \"new york\"}\n",
    "print(my_dict[\"name\"]) \n",
    "#john"
   ]
  },
  {
   "cell_type": "code",
   "execution_count": null,
   "id": "25f9d02b-3255-41f3-90ee-9a106ef8d6b5",
   "metadata": {},
   "outputs": [],
   "source": []
  },
  {
   "cell_type": "code",
   "execution_count": null,
   "id": "13b160e5-2010-4ce2-b42e-270137be7404",
   "metadata": {},
   "outputs": [],
   "source": []
  },
  {
   "cell_type": "code",
   "execution_count": null,
   "id": "54db94a4-ed0b-4918-adac-c5dd4f606897",
   "metadata": {},
   "outputs": [],
   "source": []
  },
  {
   "cell_type": "code",
   "execution_count": 1,
   "id": "c3c8dbe2-f8b6-4239-a0fa-7a2b09cf3d31",
   "metadata": {},
   "outputs": [],
   "source": [
    "## practical questions##"
   ]
  },
  {
   "cell_type": "code",
   "execution_count": null,
   "id": "452d1a3e-605f-4cdc-beeb-ae3f7a1393d1",
   "metadata": {},
   "outputs": [],
   "source": []
  },
  {
   "cell_type": "code",
   "execution_count": null,
   "id": "13a8e0bd-bb41-4805-bf49-df51ce335dc3",
   "metadata": {},
   "outputs": [],
   "source": [
    "Q1 . write  a code to create a string with your name and print it."
   ]
  },
  {
   "cell_type": "code",
   "execution_count": null,
   "id": "253fd17d-582c-4bc1-ae2a-8f1fcaa898fb",
   "metadata": {},
   "outputs": [],
   "source": [
    "ans."
   ]
  },
  {
   "cell_type": "code",
   "execution_count": 3,
   "id": "58b730ed-b27b-48a8-8413-757a329520bf",
   "metadata": {},
   "outputs": [],
   "source": [
    "string = \" my name is jyoti prajapat\""
   ]
  },
  {
   "cell_type": "code",
   "execution_count": 4,
   "id": "4cccc408-6036-464c-96ba-011492cf8bfd",
   "metadata": {},
   "outputs": [
    {
     "data": {
      "text/plain": [
       "' my name is jyoti prajapat'"
      ]
     },
     "execution_count": 4,
     "metadata": {},
     "output_type": "execute_result"
    }
   ],
   "source": [
    "string"
   ]
  },
  {
   "cell_type": "code",
   "execution_count": 6,
   "id": "90e3b84c-219a-4e50-b685-a998c6b02662",
   "metadata": {},
   "outputs": [
    {
     "data": {
      "text/plain": [
       "str"
      ]
     },
     "execution_count": 6,
     "metadata": {},
     "output_type": "execute_result"
    }
   ],
   "source": [
    "type(string)"
   ]
  },
  {
   "cell_type": "code",
   "execution_count": null,
   "id": "c0c93539-8681-4bab-b969-6af46046c8a2",
   "metadata": {},
   "outputs": [],
   "source": []
  },
  {
   "cell_type": "code",
   "execution_count": null,
   "id": "461c0d83-50a8-4cc5-b358-6518cb679bfb",
   "metadata": {},
   "outputs": [],
   "source": [
    "Q2 . write a code to find the length of the string \"hello world\"."
   ]
  },
  {
   "cell_type": "code",
   "execution_count": null,
   "id": "d1de33af-9e50-4e60-8911-55ba3f7a49e7",
   "metadata": {},
   "outputs": [],
   "source": [
    "ans."
   ]
  },
  {
   "cell_type": "code",
   "execution_count": 7,
   "id": "70dc03e7-edc4-4958-9ebc-2e48f86202b4",
   "metadata": {},
   "outputs": [
    {
     "data": {
      "text/plain": [
       "11"
      ]
     },
     "execution_count": 7,
     "metadata": {},
     "output_type": "execute_result"
    }
   ],
   "source": [
    "a = \"hello world\"\n",
    "len(a)"
   ]
  },
  {
   "cell_type": "code",
   "execution_count": null,
   "id": "3b1affc0-e981-4efb-a9e7-83ff88931c53",
   "metadata": {},
   "outputs": [],
   "source": [
    "Q3. write a code to slice the first 3 characters from the string \"python programming\"."
   ]
  },
  {
   "cell_type": "code",
   "execution_count": null,
   "id": "9e908fde-35b0-424a-acb2-a615a9d93e91",
   "metadata": {},
   "outputs": [],
   "source": [
    "ans."
   ]
  },
  {
   "cell_type": "code",
   "execution_count": 8,
   "id": "ceeb11a2-c3b5-4f5c-bcab-6687b6da6124",
   "metadata": {},
   "outputs": [],
   "source": [
    "string = \"python programming\""
   ]
  },
  {
   "cell_type": "code",
   "execution_count": 9,
   "id": "65ec3fa3-a990-4048-aefe-2a96d9af1e01",
   "metadata": {},
   "outputs": [
    {
     "data": {
      "text/plain": [
       "'pyt'"
      ]
     },
     "execution_count": 9,
     "metadata": {},
     "output_type": "execute_result"
    }
   ],
   "source": [
    "string[0:3]"
   ]
  },
  {
   "cell_type": "code",
   "execution_count": null,
   "id": "b81b4dd2-6ab1-409d-870e-d6981fd4d261",
   "metadata": {},
   "outputs": [],
   "source": [
    "Q4. write a code to convert the string \"hello\" to uppercase."
   ]
  },
  {
   "cell_type": "code",
   "execution_count": null,
   "id": "84220a39-871a-457d-b1f1-eca2441d4c1b",
   "metadata": {},
   "outputs": [],
   "source": [
    "ans."
   ]
  },
  {
   "cell_type": "code",
   "execution_count": 10,
   "id": "a91779dc-e2a0-4b3b-8755-77a6425f9af1",
   "metadata": {},
   "outputs": [],
   "source": [
    "text = \"hello\""
   ]
  },
  {
   "cell_type": "code",
   "execution_count": 11,
   "id": "3eb36f6f-68cc-40f6-9200-f12080e834c9",
   "metadata": {},
   "outputs": [
    {
     "data": {
      "text/plain": [
       "'HELLO'"
      ]
     },
     "execution_count": 11,
     "metadata": {},
     "output_type": "execute_result"
    }
   ],
   "source": [
    "text.upper()"
   ]
  },
  {
   "cell_type": "code",
   "execution_count": null,
   "id": "9f65b425-fdbe-4a1b-ac28-c54921aed90c",
   "metadata": {},
   "outputs": [],
   "source": [
    "Q5. write a code to replace the word \"apple\" with \"orange\" in the string \"i like apple\"."
   ]
  },
  {
   "cell_type": "code",
   "execution_count": null,
   "id": "c8089ff6-52b3-4f8d-a628-550bd289253b",
   "metadata": {},
   "outputs": [],
   "source": [
    "ans."
   ]
  },
  {
   "cell_type": "code",
   "execution_count": 12,
   "id": "c6886d6d-f35a-422f-8432-b21d91fb4e3b",
   "metadata": {},
   "outputs": [],
   "source": [
    "s = \"i like apple\""
   ]
  },
  {
   "cell_type": "code",
   "execution_count": 13,
   "id": "6341174b-f32d-4831-ba53-23c2bea95f99",
   "metadata": {},
   "outputs": [
    {
     "data": {
      "text/plain": [
       "'i like orange'"
      ]
     },
     "execution_count": 13,
     "metadata": {},
     "output_type": "execute_result"
    }
   ],
   "source": [
    "s.replace (\"apple\",\"orange\")"
   ]
  },
  {
   "cell_type": "code",
   "execution_count": null,
   "id": "e6310fbc-56bb-468b-8d0a-559b8c3f3cb6",
   "metadata": {},
   "outputs": [],
   "source": [
    "Q6.  write a code to create a list with numbers 1 to 5 and print it."
   ]
  },
  {
   "cell_type": "code",
   "execution_count": null,
   "id": "8bb18210-9e9f-488a-8eb9-8e5018358816",
   "metadata": {},
   "outputs": [],
   "source": [
    "ans."
   ]
  },
  {
   "cell_type": "code",
   "execution_count": 14,
   "id": "f862f6fc-2eaa-43af-ab0e-505ef86546c3",
   "metadata": {},
   "outputs": [
    {
     "name": "stdout",
     "output_type": "stream",
     "text": [
      "[1, 2, 3, 4, 5]\n"
     ]
    }
   ],
   "source": [
    "my_list = [1,2,3,4,5]\n",
    "print(my_list)"
   ]
  },
  {
   "cell_type": "code",
   "execution_count": null,
   "id": "63b916dd-e1ee-4620-9dfa-ac701259f731",
   "metadata": {},
   "outputs": [],
   "source": [
    "Q7.  write a code to append the number 10 to the list[1,2,3,4]."
   ]
  },
  {
   "cell_type": "code",
   "execution_count": null,
   "id": "251b9d96-4a64-4cd2-a14f-7e748bc78a88",
   "metadata": {},
   "outputs": [],
   "source": [
    "ans."
   ]
  },
  {
   "cell_type": "code",
   "execution_count": 15,
   "id": "bc2ee806-0e21-4e1e-a06d-42158975ae3e",
   "metadata": {},
   "outputs": [],
   "source": [
    "a = [1,2,3,4]"
   ]
  },
  {
   "cell_type": "code",
   "execution_count": 16,
   "id": "b94466c1-f77e-47c4-ac08-f2848bb2b24e",
   "metadata": {},
   "outputs": [],
   "source": [
    "a.append(\"10\")"
   ]
  },
  {
   "cell_type": "code",
   "execution_count": 17,
   "id": "2e92c4f0-7325-42dc-a224-e0599753e2f0",
   "metadata": {},
   "outputs": [
    {
     "data": {
      "text/plain": [
       "[1, 2, 3, 4, '10']"
      ]
     },
     "execution_count": 17,
     "metadata": {},
     "output_type": "execute_result"
    }
   ],
   "source": [
    "a"
   ]
  },
  {
   "cell_type": "code",
   "execution_count": null,
   "id": "86b93d85-c3a2-44cc-a385-f2e189c46846",
   "metadata": {},
   "outputs": [],
   "source": [
    "Q8. write a code to remove the number 3 from the list [1,2,3,4,5]."
   ]
  },
  {
   "cell_type": "code",
   "execution_count": null,
   "id": "c5f6b25d-8425-4447-92a3-3608c737b98f",
   "metadata": {},
   "outputs": [],
   "source": [
    "ans."
   ]
  },
  {
   "cell_type": "code",
   "execution_count": 18,
   "id": "1b20c326-9751-4f6f-afcb-957ba9eca204",
   "metadata": {},
   "outputs": [],
   "source": [
    "a = [1,2,3,4,5]"
   ]
  },
  {
   "cell_type": "code",
   "execution_count": 19,
   "id": "e73990f7-6cbb-4c3f-8e62-bc3a8f06411b",
   "metadata": {},
   "outputs": [],
   "source": [
    "a.remove(3)"
   ]
  },
  {
   "cell_type": "code",
   "execution_count": 20,
   "id": "6d6b04eb-79fa-4409-8944-7f1a69b54c3d",
   "metadata": {},
   "outputs": [
    {
     "data": {
      "text/plain": [
       "[1, 2, 4, 5]"
      ]
     },
     "execution_count": 20,
     "metadata": {},
     "output_type": "execute_result"
    }
   ],
   "source": [
    "a"
   ]
  },
  {
   "cell_type": "code",
   "execution_count": null,
   "id": "3ad97565-aeb3-4eb9-993b-a26adc7427b0",
   "metadata": {},
   "outputs": [],
   "source": [
    "Q9.  write  a code to access the second element in the list['a','b','c','d']."
   ]
  },
  {
   "cell_type": "code",
   "execution_count": null,
   "id": "533a8a1d-0bc9-464a-b0eb-d192259b1c06",
   "metadata": {},
   "outputs": [],
   "source": [
    "ans."
   ]
  },
  {
   "cell_type": "code",
   "execution_count": 21,
   "id": "6db3cabf-0d20-4218-a1d0-4d05f249e7ba",
   "metadata": {},
   "outputs": [],
   "source": [
    "lis = ['a','b','c','d']"
   ]
  },
  {
   "cell_type": "code",
   "execution_count": 23,
   "id": "9bf49dbb-3539-4e83-a486-82605f9593ca",
   "metadata": {},
   "outputs": [
    {
     "data": {
      "text/plain": [
       "'b'"
      ]
     },
     "execution_count": 23,
     "metadata": {},
     "output_type": "execute_result"
    }
   ],
   "source": [
    "lis[1]"
   ]
  },
  {
   "cell_type": "code",
   "execution_count": null,
   "id": "c78fa03d-51f5-431e-bc91-04845652bd2b",
   "metadata": {},
   "outputs": [],
   "source": [
    "Q10.  write a code to reverse the list [10,20,30,40,50]."
   ]
  },
  {
   "cell_type": "code",
   "execution_count": null,
   "id": "8a8bdcab-2078-41c0-b6f1-710009b28bc1",
   "metadata": {},
   "outputs": [],
   "source": [
    "ans."
   ]
  },
  {
   "cell_type": "code",
   "execution_count": 24,
   "id": "35080e28-df3e-4822-8402-cde64de17f47",
   "metadata": {},
   "outputs": [],
   "source": [
    "list = [10,20,30,40,50]"
   ]
  },
  {
   "cell_type": "code",
   "execution_count": 25,
   "id": "acee1e55-d510-4c39-a5f6-30a2d61f5653",
   "metadata": {},
   "outputs": [],
   "source": [
    "list.reverse()"
   ]
  },
  {
   "cell_type": "code",
   "execution_count": 26,
   "id": "3416ae7c-70a7-4a8c-97a9-d46a52dab883",
   "metadata": {},
   "outputs": [
    {
     "data": {
      "text/plain": [
       "[50, 40, 30, 20, 10]"
      ]
     },
     "execution_count": 26,
     "metadata": {},
     "output_type": "execute_result"
    }
   ],
   "source": [
    "list"
   ]
  },
  {
   "cell_type": "code",
   "execution_count": null,
   "id": "721244a3-6ad4-41b4-8a78-d8f67e9fa43e",
   "metadata": {},
   "outputs": [],
   "source": [
    "Q11.  write a code to create a tuple with the elements 10,20,30 and print it."
   ]
  },
  {
   "cell_type": "code",
   "execution_count": null,
   "id": "6d5ed7e6-b6c2-4990-85c4-d0993e6113f0",
   "metadata": {},
   "outputs": [],
   "source": [
    "ans."
   ]
  },
  {
   "cell_type": "code",
   "execution_count": 27,
   "id": "d7277b0a-215b-4c58-a79f-977e38f0b72a",
   "metadata": {},
   "outputs": [],
   "source": [
    "t = (10,20,30)"
   ]
  },
  {
   "cell_type": "code",
   "execution_count": 28,
   "id": "879bfa4f-3d29-4e52-9346-c659496e55ec",
   "metadata": {},
   "outputs": [
    {
     "data": {
      "text/plain": [
       "(10, 20, 30)"
      ]
     },
     "execution_count": 28,
     "metadata": {},
     "output_type": "execute_result"
    }
   ],
   "source": [
    "t"
   ]
  },
  {
   "cell_type": "code",
   "execution_count": 29,
   "id": "b8789167-e5b1-4968-a9f0-1b5e8cd4d9e1",
   "metadata": {},
   "outputs": [
    {
     "data": {
      "text/plain": [
       "tuple"
      ]
     },
     "execution_count": 29,
     "metadata": {},
     "output_type": "execute_result"
    }
   ],
   "source": [
    "type(t)"
   ]
  },
  {
   "cell_type": "code",
   "execution_count": null,
   "id": "5a038d87-8213-46d8-9c25-4546479a9792",
   "metadata": {},
   "outputs": [],
   "source": [
    "Q12.  write a code to access the first element of the tuple('apple','banana','cherry')."
   ]
  },
  {
   "cell_type": "code",
   "execution_count": null,
   "id": "68e17bc7-90f6-4a57-bd11-785de4ce258e",
   "metadata": {},
   "outputs": [],
   "source": [
    "ans.  "
   ]
  },
  {
   "cell_type": "code",
   "execution_count": 30,
   "id": "52e687c8-22fb-4a42-94a3-d8ade787e011",
   "metadata": {},
   "outputs": [],
   "source": [
    "t = ('apple','banana','cherry')"
   ]
  },
  {
   "cell_type": "code",
   "execution_count": 31,
   "id": "b8165e92-b970-4bec-98d7-513f5c316d91",
   "metadata": {},
   "outputs": [
    {
     "data": {
      "text/plain": [
       "'apple'"
      ]
     },
     "execution_count": 31,
     "metadata": {},
     "output_type": "execute_result"
    }
   ],
   "source": [
    "t[0]"
   ]
  },
  {
   "cell_type": "code",
   "execution_count": null,
   "id": "6f00532d-f663-4918-b7f0-9b1de5c04ac9",
   "metadata": {},
   "outputs": [],
   "source": [
    "Q13. write a code to count how many times the number 2 appears in the tuple (1,2,3,2,4,2)."
   ]
  },
  {
   "cell_type": "code",
   "execution_count": null,
   "id": "057747e3-6696-401e-86f4-4c927c2bbf45",
   "metadata": {},
   "outputs": [],
   "source": [
    "ans."
   ]
  },
  {
   "cell_type": "code",
   "execution_count": 32,
   "id": "d478ade5-58d1-48e1-a218-116b488e15a8",
   "metadata": {},
   "outputs": [
    {
     "data": {
      "text/plain": [
       "3"
      ]
     },
     "execution_count": 32,
     "metadata": {},
     "output_type": "execute_result"
    }
   ],
   "source": [
    "tuple = (1,2,3,2,4,2)\n",
    "tuple.count(2)"
   ]
  },
  {
   "cell_type": "code",
   "execution_count": null,
   "id": "eb0f9d02-bccb-4a20-ab85-26d344b806c0",
   "metadata": {},
   "outputs": [],
   "source": [
    "Q14. write a code to find the index of the element \"cat\" in the tuple('dog','cat','rabbit')."
   ]
  },
  {
   "cell_type": "code",
   "execution_count": null,
   "id": "2620d123-39ca-4764-b528-fc2e4705513e",
   "metadata": {},
   "outputs": [],
   "source": [
    "ans."
   ]
  },
  {
   "cell_type": "code",
   "execution_count": 34,
   "id": "d4254a47-1d9d-4d19-8d0a-650f1e8980e7",
   "metadata": {},
   "outputs": [],
   "source": [
    "tuple1 = ('dog','cat','rabbit')"
   ]
  },
  {
   "cell_type": "code",
   "execution_count": 37,
   "id": "70e43beb-0003-42c1-a575-cb07a7edc514",
   "metadata": {},
   "outputs": [
    {
     "data": {
      "text/plain": [
       "1"
      ]
     },
     "execution_count": 37,
     "metadata": {},
     "output_type": "execute_result"
    }
   ],
   "source": [
    "tuple1.index('cat')"
   ]
  },
  {
   "cell_type": "code",
   "execution_count": null,
   "id": "eee83feb-b4ac-4fd8-a6df-1402e62d3f48",
   "metadata": {},
   "outputs": [],
   "source": [
    "Q15.  write a code to check if the element \"banana\" is in the tuple('apple','orange','banana')."
   ]
  },
  {
   "cell_type": "code",
   "execution_count": null,
   "id": "d7504c2a-697b-4225-a389-5b623f353ca2",
   "metadata": {},
   "outputs": [],
   "source": [
    "ans."
   ]
  },
  {
   "cell_type": "code",
   "execution_count": 38,
   "id": "9598eeb0-3615-4020-a960-e37ea7beb347",
   "metadata": {},
   "outputs": [],
   "source": [
    "tuple2 = ('apple','orange','banana')"
   ]
  },
  {
   "cell_type": "code",
   "execution_count": 39,
   "id": "2db3a84b-e14a-4554-82c5-bd652147595f",
   "metadata": {},
   "outputs": [
    {
     "data": {
      "text/plain": [
       "True"
      ]
     },
     "execution_count": 39,
     "metadata": {},
     "output_type": "execute_result"
    }
   ],
   "source": [
    "'banana'in tuple2"
   ]
  },
  {
   "cell_type": "code",
   "execution_count": null,
   "id": "6dd390f1-7db6-4be5-97b9-6a82ba0dab31",
   "metadata": {},
   "outputs": [],
   "source": [
    "Q16. write a code to create a set with the elements1,2,3,4,5 and print it."
   ]
  },
  {
   "cell_type": "code",
   "execution_count": null,
   "id": "8b96c09e-773e-44f0-9192-05d30026a4e2",
   "metadata": {},
   "outputs": [],
   "source": [
    "ans."
   ]
  },
  {
   "cell_type": "code",
   "execution_count": 40,
   "id": "59884169-491b-475a-bc4a-4d0f1f4a9a87",
   "metadata": {},
   "outputs": [
    {
     "data": {
      "text/plain": [
       "{1, 2, 3, 4, 5}"
      ]
     },
     "execution_count": 40,
     "metadata": {},
     "output_type": "execute_result"
    }
   ],
   "source": [
    "s = {1,2,3,4,5}\n",
    "s"
   ]
  },
  {
   "cell_type": "code",
   "execution_count": null,
   "id": "dfc401bd-f8cd-471a-b3ec-f134852b88ab",
   "metadata": {},
   "outputs": [],
   "source": [
    "Q17. write a code to add the element 6 to the set {1,2,3,4}."
   ]
  },
  {
   "cell_type": "code",
   "execution_count": null,
   "id": "bd3a216a-bb84-4e35-bcf4-33a41715c74c",
   "metadata": {},
   "outputs": [],
   "source": [
    "ans."
   ]
  },
  {
   "cell_type": "code",
   "execution_count": 41,
   "id": "a9302421-3470-4e4e-8edb-a7c75d516597",
   "metadata": {},
   "outputs": [],
   "source": [
    "s = {1,2,3,4}"
   ]
  },
  {
   "cell_type": "code",
   "execution_count": 42,
   "id": "d1fb48f0-e85d-4a87-a9e9-ec52f7147896",
   "metadata": {},
   "outputs": [],
   "source": [
    "s.add(6)"
   ]
  },
  {
   "cell_type": "code",
   "execution_count": 43,
   "id": "3276ef1b-fc4e-45e6-bee8-4fc752ce923e",
   "metadata": {},
   "outputs": [
    {
     "data": {
      "text/plain": [
       "{1, 2, 3, 4, 6}"
      ]
     },
     "execution_count": 43,
     "metadata": {},
     "output_type": "execute_result"
    }
   ],
   "source": [
    "s"
   ]
  },
  {
   "cell_type": "code",
   "execution_count": null,
   "id": "8ff2ed58-f1c0-4219-a658-1c1dd6f28332",
   "metadata": {},
   "outputs": [],
   "source": []
  },
  {
   "cell_type": "code",
   "execution_count": null,
   "id": "4f37c6c6-bc17-4435-9a81-555e8c386630",
   "metadata": {},
   "outputs": [],
   "source": [
    "Q18.  write a code to create a tuple with the elements 10,20,30 and print it."
   ]
  },
  {
   "cell_type": "code",
   "execution_count": null,
   "id": "3a4d48e1-0771-412d-9e17-aa0954563f23",
   "metadata": {},
   "outputs": [],
   "source": [
    "ans."
   ]
  },
  {
   "cell_type": "code",
   "execution_count": 44,
   "id": "84296821-719e-4d60-be5a-be44ca616017",
   "metadata": {},
   "outputs": [],
   "source": [
    "t = (10,20,30)"
   ]
  },
  {
   "cell_type": "code",
   "execution_count": 45,
   "id": "675c12d4-2aee-4ed5-9a93-56b9c9df0302",
   "metadata": {},
   "outputs": [
    {
     "data": {
      "text/plain": [
       "(10, 20, 30)"
      ]
     },
     "execution_count": 45,
     "metadata": {},
     "output_type": "execute_result"
    }
   ],
   "source": [
    "t"
   ]
  },
  {
   "cell_type": "code",
   "execution_count": null,
   "id": "89b6ad1e-4620-4396-aad1-4750fbc7de35",
   "metadata": {},
   "outputs": [],
   "source": []
  },
  {
   "cell_type": "code",
   "execution_count": null,
   "id": "d0e00410-f057-4b58-8fc8-730a73da197d",
   "metadata": {},
   "outputs": [],
   "source": [
    "Q19.  write a code to access the first element of the tuple('apple','banana','cherry')."
   ]
  },
  {
   "cell_type": "code",
   "execution_count": null,
   "id": "e6566306-d6de-400b-8dc5-27219060b062",
   "metadata": {},
   "outputs": [],
   "source": [
    "ans."
   ]
  },
  {
   "cell_type": "code",
   "execution_count": 46,
   "id": "fa435d4d-1374-4da5-9e8e-11685088638d",
   "metadata": {},
   "outputs": [],
   "source": [
    "t = ('apple','banana','cherry')"
   ]
  },
  {
   "cell_type": "code",
   "execution_count": 47,
   "id": "d9829345-2c0a-4047-8183-145b6f448b72",
   "metadata": {},
   "outputs": [
    {
     "data": {
      "text/plain": [
       "'apple'"
      ]
     },
     "execution_count": 47,
     "metadata": {},
     "output_type": "execute_result"
    }
   ],
   "source": [
    "t[0]"
   ]
  },
  {
   "cell_type": "code",
   "execution_count": null,
   "id": "5c4887fd-2eda-4729-9348-80bb6a667b4a",
   "metadata": {},
   "outputs": [],
   "source": []
  },
  {
   "cell_type": "code",
   "execution_count": null,
   "id": "5fe5ea16-5b3a-40c0-ad41-22774fe16d80",
   "metadata": {},
   "outputs": [],
   "source": [
    "Q20. write a code to count how many times the number 2 appears in the tuple (1,2,3,2,4,2)."
   ]
  },
  {
   "cell_type": "code",
   "execution_count": null,
   "id": "fa4314cf-e0f9-4e73-9f99-72dbed39ba07",
   "metadata": {},
   "outputs": [],
   "source": [
    "ans."
   ]
  },
  {
   "cell_type": "code",
   "execution_count": 32,
   "id": "d055bd5e-91f3-4bec-89b3-ffd8a7d21633",
   "metadata": {},
   "outputs": [
    {
     "data": {
      "text/plain": [
       "3"
      ]
     },
     "execution_count": 32,
     "metadata": {},
     "output_type": "execute_result"
    }
   ],
   "source": [
    "tuple = (1,2,3,2,4,2)\n",
    "tuple.count(2)"
   ]
  },
  {
   "cell_type": "code",
   "execution_count": null,
   "id": "b1cc92aa-1876-4270-ade5-5a25db307cce",
   "metadata": {},
   "outputs": [],
   "source": []
  },
  {
   "cell_type": "code",
   "execution_count": null,
   "id": "113ac28a-d635-4bbf-bba0-c16cc886c0a3",
   "metadata": {},
   "outputs": [],
   "source": [
    "Q21. write a code to find the index of the element \"cat\" in the tuple('dog','cat','rabbit')."
   ]
  },
  {
   "cell_type": "code",
   "execution_count": null,
   "id": "118fc722-a6d8-4610-816b-f600a68e3312",
   "metadata": {},
   "outputs": [],
   "source": [
    "ans."
   ]
  },
  {
   "cell_type": "code",
   "execution_count": 34,
   "id": "70b490ea-cc13-4482-85ec-a3a4536be476",
   "metadata": {},
   "outputs": [],
   "source": [
    "tuple1 = ('dog','cat','rabbit')"
   ]
  },
  {
   "cell_type": "code",
   "execution_count": 37,
   "id": "3006f463-175e-49c7-ba57-711bb14bc725",
   "metadata": {},
   "outputs": [
    {
     "data": {
      "text/plain": [
       "1"
      ]
     },
     "execution_count": 37,
     "metadata": {},
     "output_type": "execute_result"
    }
   ],
   "source": [
    "tuple1.index('cat')"
   ]
  },
  {
   "cell_type": "code",
   "execution_count": null,
   "id": "a611a7c7-9c6c-452f-b046-094a6cae900e",
   "metadata": {},
   "outputs": [],
   "source": []
  },
  {
   "cell_type": "code",
   "execution_count": null,
   "id": "f3434f00-e6f3-4cde-a202-57277d82786a",
   "metadata": {},
   "outputs": [],
   "source": [
    "Q22.  write a code to check if the element \"banana\" is in the tuple('apple','orange','banana')."
   ]
  },
  {
   "cell_type": "code",
   "execution_count": null,
   "id": "557d6434-80f0-47c9-8195-73392c99eb86",
   "metadata": {},
   "outputs": [],
   "source": [
    "ans."
   ]
  },
  {
   "cell_type": "code",
   "execution_count": 38,
   "id": "de4b65f6-3323-4115-9e60-9d581cf53395",
   "metadata": {},
   "outputs": [],
   "source": [
    "tuple2 = ('apple','orange','banana')"
   ]
  },
  {
   "cell_type": "code",
   "execution_count": 39,
   "id": "6a4a0259-a997-46a4-9b33-fed2441bd841",
   "metadata": {},
   "outputs": [
    {
     "data": {
      "text/plain": [
       "True"
      ]
     },
     "execution_count": 39,
     "metadata": {},
     "output_type": "execute_result"
    }
   ],
   "source": [
    "'banana'in tuple2"
   ]
  },
  {
   "cell_type": "code",
   "execution_count": null,
   "id": "c36a7714-fb16-4890-96f7-808a0cd2801e",
   "metadata": {},
   "outputs": [],
   "source": []
  },
  {
   "cell_type": "code",
   "execution_count": null,
   "id": "cc3a8449-f309-4a0a-8b24-25fe3be3ae22",
   "metadata": {},
   "outputs": [],
   "source": [
    "Q23. write a code to create a set with the elements1,2,3,4,5 and print it."
   ]
  },
  {
   "cell_type": "code",
   "execution_count": null,
   "id": "7621742f-086e-4ffc-9902-72281dad4122",
   "metadata": {},
   "outputs": [],
   "source": [
    "ans."
   ]
  },
  {
   "cell_type": "code",
   "execution_count": 40,
   "id": "ea2b9642-133a-4867-8b7f-c2f9b607f4ed",
   "metadata": {},
   "outputs": [
    {
     "data": {
      "text/plain": [
       "{1, 2, 3, 4, 5}"
      ]
     },
     "execution_count": 40,
     "metadata": {},
     "output_type": "execute_result"
    }
   ],
   "source": [
    "s = {1,2,3,4,5}\n",
    "s"
   ]
  },
  {
   "cell_type": "code",
   "execution_count": null,
   "id": "126df6f3-d570-45e4-92d2-c8a52891a44e",
   "metadata": {},
   "outputs": [],
   "source": []
  },
  {
   "cell_type": "code",
   "execution_count": null,
   "id": "da74b334-015e-494f-bda1-3513de3b47e3",
   "metadata": {},
   "outputs": [],
   "source": [
    "Q24. write a code to add the element 6 to the set {1,2,3,4}."
   ]
  },
  {
   "cell_type": "code",
   "execution_count": null,
   "id": "1d67db82-db11-4992-977f-661238072eaa",
   "metadata": {},
   "outputs": [],
   "source": [
    "ans."
   ]
  },
  {
   "cell_type": "code",
   "execution_count": 41,
   "id": "6e8d6df7-f922-47ec-badd-e0a95cf572cc",
   "metadata": {},
   "outputs": [],
   "source": [
    "s = {1,2,3,4}"
   ]
  },
  {
   "cell_type": "code",
   "execution_count": 48,
   "id": "0467b207-97c0-4af0-8a41-4be2d089fc55",
   "metadata": {},
   "outputs": [],
   "source": [
    "s.add(6)"
   ]
  },
  {
   "cell_type": "code",
   "execution_count": 49,
   "id": "1b3ca32d-27ce-4532-ac20-0386c3b2921f",
   "metadata": {},
   "outputs": [
    {
     "data": {
      "text/plain": [
       "{1, 2, 3, 4, 6}"
      ]
     },
     "execution_count": 49,
     "metadata": {},
     "output_type": "execute_result"
    }
   ],
   "source": [
    "s"
   ]
  },
  {
   "cell_type": "code",
   "execution_count": null,
   "id": "ade97ca2-553b-429b-b3a1-504aa41c6649",
   "metadata": {},
   "outputs": [],
   "source": []
  }
 ],
 "metadata": {
  "kernelspec": {
   "display_name": "Python 3 (ipykernel)",
   "language": "python",
   "name": "python3"
  },
  "language_info": {
   "codemirror_mode": {
    "name": "ipython",
    "version": 3
   },
   "file_extension": ".py",
   "mimetype": "text/x-python",
   "name": "python",
   "nbconvert_exporter": "python",
   "pygments_lexer": "ipython3",
   "version": "3.12.7"
  }
 },
 "nbformat": 4,
 "nbformat_minor": 5
}
